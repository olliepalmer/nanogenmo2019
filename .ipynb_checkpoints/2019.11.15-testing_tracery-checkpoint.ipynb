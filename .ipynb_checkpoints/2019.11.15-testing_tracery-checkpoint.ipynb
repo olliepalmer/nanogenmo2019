{
 "cells": [
  {
   "cell_type": "markdown",
   "metadata": {},
   "source": [
    "# Testing Tracery\n",
    "\n",
    "From a GitHub gist [here](https://gist.github.com/aparrish/73c19a36b9cdcf604d04e95020418cd4)\n",
    "\n",
    "\n",
    "Note: a great how-to guide [here](https://github.com/BenziAhamed/Tracery)"
   ]
  },
  {
   "cell_type": "markdown",
   "metadata": {},
   "source": [
    "# Resources\n",
    "\n",
    "- [Plaintext lists](https://www.plaintextlist.com) - not sure what usage but seems useable\n",
    "- [Wordnet](https://wordnet.princeton.edu) - for dictionary, thesaurus\n",
    "- [Squinky](https://www.groundai.com/project/squinky-a-corpus-of-sentence-level-formality-informativeness-and-implicature/2) - corpus of sentence-level formality. What is this? Will look later."
   ]
  },
  {
   "cell_type": "code",
   "execution_count": 3,
   "metadata": {},
   "outputs": [
    {
     "name": "stdout",
     "output_type": "stream",
     "text": [
      "Requirement already satisfied: tracery in /usr/local/lib/python3.7/site-packages (0.1.1)\r\n"
     ]
    }
   ],
   "source": [
    "!pip3 install tracery"
   ]
  },
  {
   "cell_type": "code",
   "execution_count": 13,
   "metadata": {},
   "outputs": [
    {
     "name": "stdout",
     "output_type": "stream",
     "text": [
      "Howdy, universe!\n",
      "Hey, universe!\n",
      "Greetings, world!\n",
      "Hello, solar system!\n",
      "Hey, galaxy!\n",
      "Hello, world!\n",
      "Greetings, world!\n",
      "Hey, universe!\n",
      "Greetings, world!\n",
      "Hello, solar system!\n",
      "Hello, universe!\n",
      "Hey, world!\n",
      "Greetings, universe!\n",
      "Hey, universe!\n",
      "Hey, world!\n",
      "Hey, solar system!\n",
      "Hey, world!\n",
      "Hello, solar system!\n",
      "Greetings, galaxy!\n",
      "Hello, world!\n",
      "Greetings, universe!\n",
      "Greetings, universe!\n",
      "Greetings, world!\n",
      "Hey, galaxy!\n",
      "Howdy, galaxy!\n",
      "Hello, solar system!\n",
      "Greetings, world!\n",
      "Hello, galaxy!\n",
      "Howdy, galaxy!\n",
      "Hey, world!\n"
     ]
    }
   ],
   "source": [
    "import tracery\n",
    "from tracery.modifiers import base_english\n",
    "\n",
    "rules = {\n",
    "    \"origin\": \"#hello.capitalize#, #location#!\",\n",
    "    \"hello\": [\"hello\", \"greetings\", \"howdy\", \"hey\"],\n",
    "    \"location\": [\"world\", \"solar system\", \"galaxy\", \"universe\"]\n",
    "}\n",
    "\n",
    "grammar = tracery.Grammar(rules) # create a grammar object from the rules\n",
    "grammar.add_modifiers(base_english) # add pre-programmed modifiers\n",
    "\n",
    "for i in range(30):\n",
    "    print (grammar.flatten(\"#origin#\")) # and flatten, starting with origin rule\n"
   ]
  },
  {
   "cell_type": "markdown",
   "metadata": {},
   "source": [
    "What do I want from the generator?\n",
    "\n",
    "The main thing works as follows:\n",
    "\n",
    "\n",
    "- Define 2-5 local towns (e.g. Alphatown, Betatown, Charlietown, Deltatown) with one as main town (this becomes front page of directory)\n",
    "\n",
    "- Generate types of business (in alphabetical order?)\n",
    "    - Is this subject-level generation? e.g. aardvark, aardvark clearning, aardvark services, aardvark, etc? Or Aardvark, Betamax, etc?\n",
    "    - How do we relate the genre of business to the businesses generated? Does the type of business become a tracery grammar?  \n",
    "- Generate individual businesses.\n",
    "    - Layout type. Options: \n",
    "        - Long / short\n",
    "        - if long then number 0-10 (this becomes layout no, as in one two three - which then determines layout number loaded in static site generator).\n",
    "        - if short then determine number between 1-100 to make X number of short entries; If short, then only generate name/address/phone no\n",
    "    - e.g. within Aardvarks, Mick's Aardvark Company, Aardvark Incorporated, _thesaurus word for aardvark_ Services Inc, etc\n",
    "    - Plus address:\n",
    "        - Number (0-9999)\n",
    "        - Street, Street type\n",
    "        - Town - if in NOT MAIN town then perhaps the slogan becomes more competitive (e.g. \"Don't pay TOWN A prices for your Aardvarks!\", \"Why go to the big city when you want Aardvarks? THE TOWN has all you need.\", etc etc.\n",
    "        - Zip code (define starting two digits for area, if TOWN A then next two digits defined? - how do US Zip codes work?)\n",
    "    - Plus slogan:\n",
    "        - FIRST WORD (e.g. Mick) has (it!) / (you (covered/sorted/etc)) / ((what/all/everything) you need / etc.) OR (BUSINESS_TYPE large and small / \n",
    "        - or random_adjective pl.BUSINESS_TYPE! random_adjective pl.BUSINESS_TYPE! random_adjective pl.BUSINESS_TYPE! (e.g. Red Aardvarks! Large Aardvarks! Triangular Aardvarks!)\n",
    "        - Phone no. - AREA_CODE (determined by town), -###-####\n",
    "    - Plus random number, 0-10000.png * 2 (one for bgd, one for foreground)\n",
    "    \n",
    "    - For each part of the info, check against database.db for that category - if it's already an entry, regenerate. If entire data is generated, save into DB.\n",
    "    \n",
    "    \n",
    "    \n",
    "These are saved as a MarkDown file:\n",
    "\n",
    "- title (BUSINESS_NAME)\n",
    "- layout (small / one/two/three/four/five)\n",
    "- category (e.g. aardvarks)\n",
    "\n",
    "and as an entry in the database.\n",
    "\n",
    "\n",
    "\n",
    "Example of a small entries in the ELECTRICIAN category:\n",
    "\n",
    "**F MASON & SONS LTD** 132 Heath St, Edgemonton. ☎ 434-7737  \n",
    "**GERRY HEART ELECTRICIAN*** 552 Oakdale Ave, Beaverton. ☎ 434-9310\n",
    "\n",
    "\n",
    "Which would be rendered in MarkDown as a file named f_mason_sons.md\n",
    "\n",
    "```\n",
    "---\n",
    "layout: small\n",
    "category: electrician\n",
    "name: F. Mason & Sons Ltd\n",
    "address: 132 Heath St, Edgemonton\n",
    "phone: 434-7737\n",
    "---\n",
    "```"
   ]
  },
  {
   "cell_type": "markdown",
   "metadata": {},
   "source": [
    "-----\n",
    "\n",
    "So, let's go through those things in order:\n",
    "\n",
    "# Town names\n",
    "\n",
    "Let's just start with a phonetic alphabet, then generic town names like -ton, -chester, etc. These are loaded into the files ```corpora/townprefixes.txt``` and ```corpora/townsuffixes.txt```"
   ]
  },
  {
   "cell_type": "code",
   "execution_count": 159,
   "metadata": {},
   "outputs": [
    {
     "name": "stdout",
     "output_type": "stream",
     "text": [
      "prefixes =  ['Alfa', 'Bravo', 'Charlie', 'Delta', 'Echo', 'Foxtrot', 'Golf', 'Hotel', 'India', 'Juliett', 'Kilo', 'Lima', 'Mike', 'November', 'Oscar', 'Papa', 'Quebec', 'Romeo', 'Sierra', 'Tango', 'Uniform', 'Victor', 'Whiskey', 'Xray', 'Yankee', 'Zulu']\n",
      "suffixes = ['ville', 'town', 'ton', 'dam', 'ster', 'stone', 'ston', 'field', 'view', 'son', 'land', 'ford', 'bridge', 'port', 'burn', 'chester', 'side']\n",
      "Novemberview\n",
      "Bravoview\n",
      "Limastone\n",
      "Uniformside\n",
      "Charliebridge\n",
      "Victorland\n",
      "Quebecfield\n",
      "Sierraton\n",
      "Papaston\n",
      "Papaford\n",
      "Deltafield\n",
      "Kiloburn\n",
      "Kiloson\n",
      "Quebecside\n",
      "Papaston\n",
      "Kilofield\n",
      "Uniformford\n",
      "Alfaford\n",
      "Mikeview\n",
      "Romeoburn\n",
      "Tangodam\n",
      "Deltaside\n",
      "Indiatown\n",
      "Novemberport\n",
      "Tangodam\n",
      "Foxtrottown\n",
      "Deltatown\n",
      "Oscarport\n",
      "Victorford\n",
      "Victorburn\n"
     ]
    }
   ],
   "source": [
    "with open('corpora/townprefixes.txt','r') as f:\n",
    "    townprefixes = [line.strip() for line in f]\n",
    "with open('corpora/townsuffixes.txt','r') as f:\n",
    "    townsuffixes = [line.strip() for line in f]\n",
    "\n",
    "print(\"prefixes = \",townprefixes)\n",
    "print(\"suffixes =\",townsuffixes)\n",
    "\n",
    "# Let's test this\n",
    "\n",
    "rules = {\n",
    "    \"origin\": \"#prefix.capitalize##suffix#\",\n",
    "    \"prefix\": townprefixes,\n",
    "    \"suffix\": townsuffixes\n",
    "}\n",
    "\n",
    "grammar = tracery.Grammar(rules) # create a grammar object from the rules\n",
    "grammar.add_modifiers(base_english) # add pre-programmed modifiers\n",
    "\n",
    "for i in range(30):\n",
    "    print (grammar.flatten(\"#origin#\")) # and flatten, starting with origin rule"
   ]
  },
  {
   "cell_type": "code",
   "execution_count": 149,
   "metadata": {},
   "outputs": [
    {
     "ename": "IndexError",
     "evalue": "Cannot choose from an empty sequence",
     "output_type": "error",
     "traceback": [
      "\u001b[0;31m---------------------------------------------------------------------------\u001b[0m",
      "\u001b[0;31mIndexError\u001b[0m                                Traceback (most recent call last)",
      "\u001b[0;32m<ipython-input-149-1183938da276>\u001b[0m in \u001b[0;36m<module>\u001b[0;34m\u001b[0m\n\u001b[1;32m     33\u001b[0m \u001b[0;34m\u001b[0m\u001b[0m\n\u001b[1;32m     34\u001b[0m \u001b[0;32mfor\u001b[0m \u001b[0mi\u001b[0m \u001b[0;32min\u001b[0m \u001b[0mrange\u001b[0m\u001b[0;34m(\u001b[0m\u001b[0;36m30\u001b[0m\u001b[0;34m)\u001b[0m\u001b[0;34m:\u001b[0m\u001b[0;34m\u001b[0m\u001b[0;34m\u001b[0m\u001b[0m\n\u001b[0;32m---> 35\u001b[0;31m     \u001b[0mprint\u001b[0m \u001b[0;34m(\u001b[0m\u001b[0mgrammar\u001b[0m\u001b[0;34m.\u001b[0m\u001b[0mflatten\u001b[0m\u001b[0;34m(\u001b[0m\u001b[0;34m\"#address#\"\u001b[0m\u001b[0;34m)\u001b[0m\u001b[0;34m)\u001b[0m \u001b[0;31m# and flatten, starting with origin rule\u001b[0m\u001b[0;34m\u001b[0m\u001b[0;34m\u001b[0m\u001b[0m\n\u001b[0m",
      "\u001b[0;32m/usr/local/lib/python3.7/site-packages/tracery/__init__.py\u001b[0m in \u001b[0;36mflatten\u001b[0;34m(self, rule, allow_escape_chars)\u001b[0m\n\u001b[1;32m    242\u001b[0m \u001b[0;34m\u001b[0m\u001b[0m\n\u001b[1;32m    243\u001b[0m     \u001b[0;32mdef\u001b[0m \u001b[0mflatten\u001b[0m\u001b[0;34m(\u001b[0m\u001b[0mself\u001b[0m\u001b[0;34m,\u001b[0m \u001b[0mrule\u001b[0m\u001b[0;34m,\u001b[0m \u001b[0mallow_escape_chars\u001b[0m\u001b[0;34m=\u001b[0m\u001b[0;32mFalse\u001b[0m\u001b[0;34m)\u001b[0m\u001b[0;34m:\u001b[0m\u001b[0;34m\u001b[0m\u001b[0;34m\u001b[0m\u001b[0m\n\u001b[0;32m--> 244\u001b[0;31m         \u001b[0mroot\u001b[0m \u001b[0;34m=\u001b[0m \u001b[0mself\u001b[0m\u001b[0;34m.\u001b[0m\u001b[0mexpand\u001b[0m\u001b[0;34m(\u001b[0m\u001b[0mrule\u001b[0m\u001b[0;34m,\u001b[0m \u001b[0mallow_escape_chars\u001b[0m\u001b[0;34m)\u001b[0m\u001b[0;34m\u001b[0m\u001b[0;34m\u001b[0m\u001b[0m\n\u001b[0m\u001b[1;32m    245\u001b[0m         \u001b[0;32mreturn\u001b[0m \u001b[0mroot\u001b[0m\u001b[0;34m.\u001b[0m\u001b[0mfinished_text\u001b[0m\u001b[0;34m\u001b[0m\u001b[0;34m\u001b[0m\u001b[0m\n\u001b[1;32m    246\u001b[0m \u001b[0;34m\u001b[0m\u001b[0m\n",
      "\u001b[0;32m/usr/local/lib/python3.7/site-packages/tracery/__init__.py\u001b[0m in \u001b[0;36mexpand\u001b[0;34m(self, rule, allow_escape_chars)\u001b[0m\n\u001b[1;32m    235\u001b[0m     \u001b[0;32mdef\u001b[0m \u001b[0mexpand\u001b[0m\u001b[0;34m(\u001b[0m\u001b[0mself\u001b[0m\u001b[0;34m,\u001b[0m \u001b[0mrule\u001b[0m\u001b[0;34m,\u001b[0m \u001b[0mallow_escape_chars\u001b[0m\u001b[0;34m=\u001b[0m\u001b[0;32mFalse\u001b[0m\u001b[0;34m)\u001b[0m\u001b[0;34m:\u001b[0m\u001b[0;34m\u001b[0m\u001b[0;34m\u001b[0m\u001b[0m\n\u001b[1;32m    236\u001b[0m         \u001b[0mroot\u001b[0m \u001b[0;34m=\u001b[0m \u001b[0mself\u001b[0m\u001b[0;34m.\u001b[0m\u001b[0mcreate_root\u001b[0m\u001b[0;34m(\u001b[0m\u001b[0mrule\u001b[0m\u001b[0;34m)\u001b[0m\u001b[0;34m\u001b[0m\u001b[0;34m\u001b[0m\u001b[0m\n\u001b[0;32m--> 237\u001b[0;31m         \u001b[0mroot\u001b[0m\u001b[0;34m.\u001b[0m\u001b[0mexpand\u001b[0m\u001b[0;34m(\u001b[0m\u001b[0;34m)\u001b[0m\u001b[0;34m\u001b[0m\u001b[0;34m\u001b[0m\u001b[0m\n\u001b[0m\u001b[1;32m    238\u001b[0m         \u001b[0;32mif\u001b[0m \u001b[0;32mnot\u001b[0m \u001b[0mallow_escape_chars\u001b[0m\u001b[0;34m:\u001b[0m\u001b[0;34m\u001b[0m\u001b[0;34m\u001b[0m\u001b[0m\n\u001b[1;32m    239\u001b[0m             \u001b[0mroot\u001b[0m\u001b[0;34m.\u001b[0m\u001b[0mclear_escape_chars\u001b[0m\u001b[0;34m(\u001b[0m\u001b[0;34m)\u001b[0m\u001b[0;34m\u001b[0m\u001b[0;34m\u001b[0m\u001b[0m\n",
      "\u001b[0;32m/usr/local/lib/python3.7/site-packages/tracery/__init__.py\u001b[0m in \u001b[0;36mexpand\u001b[0;34m(self, prevent_recursion)\u001b[0m\n\u001b[1;32m     61\u001b[0m             \u001b[0;31m#     more in the future)\u001b[0m\u001b[0;34m\u001b[0m\u001b[0;34m\u001b[0m\u001b[0;34m\u001b[0m\u001b[0m\n\u001b[1;32m     62\u001b[0m             \u001b[0;32mif\u001b[0m \u001b[0mself\u001b[0m\u001b[0;34m.\u001b[0m\u001b[0mtype\u001b[0m \u001b[0;34m==\u001b[0m \u001b[0;34m-\u001b[0m\u001b[0;36m1\u001b[0m\u001b[0;34m:\u001b[0m\u001b[0;34m\u001b[0m\u001b[0;34m\u001b[0m\u001b[0m\n\u001b[0;32m---> 63\u001b[0;31m                 \u001b[0mself\u001b[0m\u001b[0;34m.\u001b[0m\u001b[0mexpand_children\u001b[0m\u001b[0;34m(\u001b[0m\u001b[0mself\u001b[0m\u001b[0;34m.\u001b[0m\u001b[0mraw\u001b[0m\u001b[0;34m,\u001b[0m \u001b[0mprevent_recursion\u001b[0m\u001b[0;34m)\u001b[0m\u001b[0;34m\u001b[0m\u001b[0;34m\u001b[0m\u001b[0m\n\u001b[0m\u001b[1;32m     64\u001b[0m \u001b[0;34m\u001b[0m\u001b[0m\n\u001b[1;32m     65\u001b[0m             \u001b[0;32melif\u001b[0m \u001b[0mself\u001b[0m\u001b[0;34m.\u001b[0m\u001b[0mtype\u001b[0m \u001b[0;34m==\u001b[0m \u001b[0;36m0\u001b[0m\u001b[0;34m:\u001b[0m\u001b[0;34m\u001b[0m\u001b[0;34m\u001b[0m\u001b[0m\n",
      "\u001b[0;32m/usr/local/lib/python3.7/site-packages/tracery/__init__.py\u001b[0m in \u001b[0;36mexpand_children\u001b[0;34m(self, child_rule, prevent_recursion)\u001b[0m\n\u001b[1;32m     44\u001b[0m                 \u001b[0mself\u001b[0m\u001b[0;34m.\u001b[0m\u001b[0mchildren\u001b[0m\u001b[0;34m.\u001b[0m\u001b[0mappend\u001b[0m\u001b[0;34m(\u001b[0m\u001b[0mnode\u001b[0m\u001b[0;34m)\u001b[0m\u001b[0;34m\u001b[0m\u001b[0;34m\u001b[0m\u001b[0m\n\u001b[1;32m     45\u001b[0m                 \u001b[0;32mif\u001b[0m \u001b[0;32mnot\u001b[0m \u001b[0mprevent_recursion\u001b[0m\u001b[0;34m:\u001b[0m\u001b[0;34m\u001b[0m\u001b[0;34m\u001b[0m\u001b[0m\n\u001b[0;32m---> 46\u001b[0;31m                     \u001b[0mnode\u001b[0m\u001b[0;34m.\u001b[0m\u001b[0mexpand\u001b[0m\u001b[0;34m(\u001b[0m\u001b[0mprevent_recursion\u001b[0m\u001b[0;34m)\u001b[0m\u001b[0;34m\u001b[0m\u001b[0;34m\u001b[0m\u001b[0m\n\u001b[0m\u001b[1;32m     47\u001b[0m                 \u001b[0mself\u001b[0m\u001b[0;34m.\u001b[0m\u001b[0mfinished_text\u001b[0m \u001b[0;34m+=\u001b[0m \u001b[0mnode\u001b[0m\u001b[0;34m.\u001b[0m\u001b[0mfinished_text\u001b[0m\u001b[0;34m\u001b[0m\u001b[0;34m\u001b[0m\u001b[0m\n\u001b[1;32m     48\u001b[0m         \u001b[0;32melse\u001b[0m\u001b[0;34m:\u001b[0m\u001b[0;34m\u001b[0m\u001b[0;34m\u001b[0m\u001b[0m\n",
      "\u001b[0;32m/usr/local/lib/python3.7/site-packages/tracery/__init__.py\u001b[0m in \u001b[0;36mexpand\u001b[0;34m(self, prevent_recursion)\u001b[0m\n\u001b[1;32m     82\u001b[0m                 selected_rule = self.grammar.select_rule(self.symbol, self,\n\u001b[1;32m     83\u001b[0m                                                          self.errors)\n\u001b[0;32m---> 84\u001b[0;31m                 \u001b[0mself\u001b[0m\u001b[0;34m.\u001b[0m\u001b[0mexpand_children\u001b[0m\u001b[0;34m(\u001b[0m\u001b[0mselected_rule\u001b[0m\u001b[0;34m,\u001b[0m \u001b[0mprevent_recursion\u001b[0m\u001b[0;34m)\u001b[0m\u001b[0;34m\u001b[0m\u001b[0;34m\u001b[0m\u001b[0m\n\u001b[0m\u001b[1;32m     85\u001b[0m \u001b[0;34m\u001b[0m\u001b[0m\n\u001b[1;32m     86\u001b[0m                 \u001b[0;31m# apply modifiers\u001b[0m\u001b[0;34m\u001b[0m\u001b[0;34m\u001b[0m\u001b[0;34m\u001b[0m\u001b[0m\n",
      "\u001b[0;32m/usr/local/lib/python3.7/site-packages/tracery/__init__.py\u001b[0m in \u001b[0;36mexpand_children\u001b[0;34m(self, child_rule, prevent_recursion)\u001b[0m\n\u001b[1;32m     44\u001b[0m                 \u001b[0mself\u001b[0m\u001b[0;34m.\u001b[0m\u001b[0mchildren\u001b[0m\u001b[0;34m.\u001b[0m\u001b[0mappend\u001b[0m\u001b[0;34m(\u001b[0m\u001b[0mnode\u001b[0m\u001b[0;34m)\u001b[0m\u001b[0;34m\u001b[0m\u001b[0;34m\u001b[0m\u001b[0m\n\u001b[1;32m     45\u001b[0m                 \u001b[0;32mif\u001b[0m \u001b[0;32mnot\u001b[0m \u001b[0mprevent_recursion\u001b[0m\u001b[0;34m:\u001b[0m\u001b[0;34m\u001b[0m\u001b[0;34m\u001b[0m\u001b[0m\n\u001b[0;32m---> 46\u001b[0;31m                     \u001b[0mnode\u001b[0m\u001b[0;34m.\u001b[0m\u001b[0mexpand\u001b[0m\u001b[0;34m(\u001b[0m\u001b[0mprevent_recursion\u001b[0m\u001b[0;34m)\u001b[0m\u001b[0;34m\u001b[0m\u001b[0;34m\u001b[0m\u001b[0m\n\u001b[0m\u001b[1;32m     47\u001b[0m                 \u001b[0mself\u001b[0m\u001b[0;34m.\u001b[0m\u001b[0mfinished_text\u001b[0m \u001b[0;34m+=\u001b[0m \u001b[0mnode\u001b[0m\u001b[0;34m.\u001b[0m\u001b[0mfinished_text\u001b[0m\u001b[0;34m\u001b[0m\u001b[0;34m\u001b[0m\u001b[0m\n\u001b[1;32m     48\u001b[0m         \u001b[0;32melse\u001b[0m\u001b[0;34m:\u001b[0m\u001b[0;34m\u001b[0m\u001b[0;34m\u001b[0m\u001b[0m\n",
      "\u001b[0;32m/usr/local/lib/python3.7/site-packages/tracery/__init__.py\u001b[0m in \u001b[0;36mexpand\u001b[0;34m(self, prevent_recursion)\u001b[0m\n\u001b[1;32m     81\u001b[0m                 \u001b[0mself\u001b[0m\u001b[0;34m.\u001b[0m\u001b[0mfinished_text\u001b[0m \u001b[0;34m=\u001b[0m \u001b[0mself\u001b[0m\u001b[0;34m.\u001b[0m\u001b[0mraw\u001b[0m\u001b[0;34m\u001b[0m\u001b[0;34m\u001b[0m\u001b[0m\n\u001b[1;32m     82\u001b[0m                 selected_rule = self.grammar.select_rule(self.symbol, self,\n\u001b[0;32m---> 83\u001b[0;31m                                                          self.errors)\n\u001b[0m\u001b[1;32m     84\u001b[0m                 \u001b[0mself\u001b[0m\u001b[0;34m.\u001b[0m\u001b[0mexpand_children\u001b[0m\u001b[0;34m(\u001b[0m\u001b[0mselected_rule\u001b[0m\u001b[0;34m,\u001b[0m \u001b[0mprevent_recursion\u001b[0m\u001b[0;34m)\u001b[0m\u001b[0;34m\u001b[0m\u001b[0;34m\u001b[0m\u001b[0m\n\u001b[1;32m     85\u001b[0m \u001b[0;34m\u001b[0m\u001b[0m\n",
      "\u001b[0;32m/usr/local/lib/python3.7/site-packages/tracery/__init__.py\u001b[0m in \u001b[0;36mselect_rule\u001b[0;34m(self, key, node, errors)\u001b[0m\n\u001b[1;32m    259\u001b[0m     \u001b[0;32mdef\u001b[0m \u001b[0mselect_rule\u001b[0m\u001b[0;34m(\u001b[0m\u001b[0mself\u001b[0m\u001b[0;34m,\u001b[0m \u001b[0mkey\u001b[0m\u001b[0;34m,\u001b[0m \u001b[0mnode\u001b[0m\u001b[0;34m,\u001b[0m \u001b[0merrors\u001b[0m\u001b[0;34m)\u001b[0m\u001b[0;34m:\u001b[0m\u001b[0;34m\u001b[0m\u001b[0;34m\u001b[0m\u001b[0m\n\u001b[1;32m    260\u001b[0m         \u001b[0;32mif\u001b[0m \u001b[0mkey\u001b[0m \u001b[0;32min\u001b[0m \u001b[0mself\u001b[0m\u001b[0;34m.\u001b[0m\u001b[0msymbols\u001b[0m\u001b[0;34m:\u001b[0m\u001b[0;34m\u001b[0m\u001b[0;34m\u001b[0m\u001b[0m\n\u001b[0;32m--> 261\u001b[0;31m             \u001b[0;32mreturn\u001b[0m \u001b[0mself\u001b[0m\u001b[0;34m.\u001b[0m\u001b[0msymbols\u001b[0m\u001b[0;34m[\u001b[0m\u001b[0mkey\u001b[0m\u001b[0;34m]\u001b[0m\u001b[0;34m.\u001b[0m\u001b[0mselect_rule\u001b[0m\u001b[0;34m(\u001b[0m\u001b[0mnode\u001b[0m\u001b[0;34m,\u001b[0m \u001b[0merrors\u001b[0m\u001b[0;34m)\u001b[0m\u001b[0;34m\u001b[0m\u001b[0;34m\u001b[0m\u001b[0m\n\u001b[0m\u001b[1;32m    262\u001b[0m         \u001b[0;32melse\u001b[0m\u001b[0;34m:\u001b[0m\u001b[0;34m\u001b[0m\u001b[0;34m\u001b[0m\u001b[0m\n\u001b[1;32m    263\u001b[0m             \u001b[0merrors\u001b[0m\u001b[0;34m.\u001b[0m\u001b[0mappend\u001b[0m\u001b[0;34m(\u001b[0m\u001b[0;34m\"No symbol for \"\u001b[0m \u001b[0;34m+\u001b[0m \u001b[0mstr\u001b[0m\u001b[0;34m(\u001b[0m\u001b[0mkey\u001b[0m\u001b[0;34m)\u001b[0m\u001b[0;34m)\u001b[0m\u001b[0;34m\u001b[0m\u001b[0;34m\u001b[0m\u001b[0m\n",
      "\u001b[0;32m/usr/local/lib/python3.7/site-packages/tracery/__init__.py\u001b[0m in \u001b[0;36mselect_rule\u001b[0;34m(self, node, errors)\u001b[0m\n\u001b[1;32m    198\u001b[0m             errors.append(\"The rule stack for '\" + self.key +\n\u001b[1;32m    199\u001b[0m                           \"' is empty, too many pops?\")\n\u001b[0;32m--> 200\u001b[0;31m         \u001b[0;32mreturn\u001b[0m \u001b[0mself\u001b[0m\u001b[0;34m.\u001b[0m\u001b[0mstack\u001b[0m\u001b[0;34m[\u001b[0m\u001b[0;34m-\u001b[0m\u001b[0;36m1\u001b[0m\u001b[0;34m]\u001b[0m\u001b[0;34m.\u001b[0m\u001b[0mselect_rule\u001b[0m\u001b[0;34m(\u001b[0m\u001b[0;34m)\u001b[0m\u001b[0;34m\u001b[0m\u001b[0;34m\u001b[0m\u001b[0m\n\u001b[0m\u001b[1;32m    201\u001b[0m \u001b[0;34m\u001b[0m\u001b[0m\n\u001b[1;32m    202\u001b[0m     \u001b[0;32mdef\u001b[0m \u001b[0mget_active_rules\u001b[0m\u001b[0;34m(\u001b[0m\u001b[0mself\u001b[0m\u001b[0;34m)\u001b[0m\u001b[0;34m:\u001b[0m\u001b[0;34m\u001b[0m\u001b[0;34m\u001b[0m\u001b[0m\n",
      "\u001b[0;32m/usr/local/lib/python3.7/site-packages/tracery/__init__.py\u001b[0m in \u001b[0;36mselect_rule\u001b[0;34m(self)\u001b[0m\n\u001b[1;32m    167\u001b[0m         \u001b[0;31m# selecting a rule, none of which seem to be implemented yet! so for\u001b[0m\u001b[0;34m\u001b[0m\u001b[0;34m\u001b[0m\u001b[0;34m\u001b[0m\u001b[0m\n\u001b[1;32m    168\u001b[0m         \u001b[0;31m# now I'm just going to ...\u001b[0m\u001b[0;34m\u001b[0m\u001b[0;34m\u001b[0m\u001b[0;34m\u001b[0m\u001b[0m\n\u001b[0;32m--> 169\u001b[0;31m         \u001b[0;32mreturn\u001b[0m \u001b[0mrandom\u001b[0m\u001b[0;34m.\u001b[0m\u001b[0mchoice\u001b[0m\u001b[0;34m(\u001b[0m\u001b[0mself\u001b[0m\u001b[0;34m.\u001b[0m\u001b[0mdefault_rules\u001b[0m\u001b[0;34m)\u001b[0m\u001b[0;34m\u001b[0m\u001b[0;34m\u001b[0m\u001b[0m\n\u001b[0m\u001b[1;32m    170\u001b[0m \u001b[0;34m\u001b[0m\u001b[0m\n\u001b[1;32m    171\u001b[0m     \u001b[0;32mdef\u001b[0m \u001b[0mclear_state\u001b[0m\u001b[0;34m(\u001b[0m\u001b[0mself\u001b[0m\u001b[0;34m)\u001b[0m\u001b[0;34m:\u001b[0m\u001b[0;34m\u001b[0m\u001b[0;34m\u001b[0m\u001b[0m\n",
      "\u001b[0;32m/usr/local/Cellar/python/3.7.5/Frameworks/Python.framework/Versions/3.7/lib/python3.7/random.py\u001b[0m in \u001b[0;36mchoice\u001b[0;34m(self, seq)\u001b[0m\n\u001b[1;32m    259\u001b[0m             \u001b[0mi\u001b[0m \u001b[0;34m=\u001b[0m \u001b[0mself\u001b[0m\u001b[0;34m.\u001b[0m\u001b[0m_randbelow\u001b[0m\u001b[0;34m(\u001b[0m\u001b[0mlen\u001b[0m\u001b[0;34m(\u001b[0m\u001b[0mseq\u001b[0m\u001b[0;34m)\u001b[0m\u001b[0;34m)\u001b[0m\u001b[0;34m\u001b[0m\u001b[0;34m\u001b[0m\u001b[0m\n\u001b[1;32m    260\u001b[0m         \u001b[0;32mexcept\u001b[0m \u001b[0mValueError\u001b[0m\u001b[0;34m:\u001b[0m\u001b[0;34m\u001b[0m\u001b[0;34m\u001b[0m\u001b[0m\n\u001b[0;32m--> 261\u001b[0;31m             \u001b[0;32mraise\u001b[0m \u001b[0mIndexError\u001b[0m\u001b[0;34m(\u001b[0m\u001b[0;34m'Cannot choose from an empty sequence'\u001b[0m\u001b[0;34m)\u001b[0m \u001b[0;32mfrom\u001b[0m \u001b[0;32mNone\u001b[0m\u001b[0;34m\u001b[0m\u001b[0;34m\u001b[0m\u001b[0m\n\u001b[0m\u001b[1;32m    262\u001b[0m         \u001b[0;32mreturn\u001b[0m \u001b[0mseq\u001b[0m\u001b[0;34m[\u001b[0m\u001b[0mi\u001b[0m\u001b[0;34m]\u001b[0m\u001b[0;34m\u001b[0m\u001b[0;34m\u001b[0m\u001b[0m\n\u001b[1;32m    263\u001b[0m \u001b[0;34m\u001b[0m\u001b[0m\n",
      "\u001b[0;31mIndexError\u001b[0m: Cannot choose from an empty sequence"
     ]
    }
   ],
   "source": [
    "# Addresses\n",
    "\n",
    "def loadData():\n",
    "    with open('corpora/townprefixes.txt','r') as f:\n",
    "        townprefixes = [line.strip() for line in f]\n",
    "    with open('corpora/townsuffixes.txt','r') as f:\n",
    "        townsuffixes = [line.strip() for line in f]\n",
    "    with open('corpora/monopolystreets.txt','r') as f:\n",
    "        street = [line.strip() for line in f]\n",
    "#     with open('corpora/words_alpha.txt','r') as f:\n",
    "#         words = [line.strip() for line in f]\n",
    "\n",
    "    # print(\"prefixes = \",townprefixes)\n",
    "    # print(\"suffixes =\",townsuffixes)\n",
    "\n",
    "loadData()\n",
    "\n",
    "rules = {\n",
    "    \"address\": \"#number# #street.capitalize#, #town.capitalize#, #zipcode#\",\n",
    "    \"number\": [\"#d0#\",\"#d0##d#\",\"#d0##d##d#\",\"#d0##d##d#\",\"#d0##d##d#\",\"#d0##d##d#\",\"#d0##d##d##d#\",\"#d0##d##d##d#\",\"#d0##d##d##d#\",\"#d0##d##d##d#\",\"#d0##d##d##d#\",\"#d0##d##d##d#\",\"#d0##d##d##d#\",\"#d0##d##d##d#\",\"#d0##d##d##d#\"],\n",
    "    \"street\": street,\n",
    "    \"town\": \"#prefix.capitalize##suffix#\",\n",
    "    \"prefix\": townprefixes,\n",
    "    \"suffix\": townsuffixes,\n",
    "    \"zipcode\": \"#d##d##d##d##d#\",\n",
    "    \"d\":[\"0\",\"1\",\"2\",\"3\",\"4\",\"5\",\"6\",\"7\",\"8\",\"9\"],\n",
    "    \"d0\":[\"1\",\"2\",\"3\",\"4\",\"5\",\"6\",\"7\",\"8\",\"9\"],\n",
    "    \"words\": words\n",
    "}\n",
    "\n",
    "grammar = tracery.Grammar(rules) # create a grammar object from the rules\n",
    "grammar.add_modifiers(base_english) # add pre-programmed modifiers\n",
    "\n",
    "for i in range(30):\n",
    "    print (grammar.flatten(\"#address#\")) # and flatten, starting with origin rule"
   ]
  },
  {
   "cell_type": "markdown",
   "metadata": {},
   "source": [
    "# zipcodes\n",
    "\n",
    "Note that US zipcodes are v specific:\n",
    "\n",
    "    - first digit is state (several states share each number)\n",
    "    - second + third digits = sectional sorting code\n",
    "    - fourth + fifth are specific towns, streets, etc\n",
    "    \n",
    "...but there are unused numbers! [See here](https://en.wikipedia.org/wiki/Sectional_center_facility)\n",
    "\n",
    "So later on in the project, let's find ones that don't exist and use only those. That will probably locate us within a state or two too.\n"
   ]
  },
  {
   "cell_type": "code",
   "execution_count": 58,
   "metadata": {},
   "outputs": [
    {
     "name": "stdout",
     "output_type": "stream",
     "text": [
      "Fox was a great ((occupation)), and this song tells of ((heroTheir)) adventure. Jedoo ((didStuff)), then ((heroThey)) ((didStuff)), then ((heroThey)) went home to read a book.\n",
      "Zelph was a great ((occupation)), and this song tells of ((heroTheir)) adventure. Cheri ((didStuff)), then ((heroThey)) ((didStuff)), then ((heroThey)) went home to read a book.\n",
      "Morgana was a great ((occupation)), and this song tells of ((heroTheir)) adventure. Jedoo ((didStuff)), then ((heroThey)) ((didStuff)), then ((heroThey)) went home to read a book.\n"
     ]
    }
   ],
   "source": [
    "# NOTE THIS CELL DOESN'T WORK! LEFT IN JUST TO AVOID DOING IT AGAIN...WILL CLEAN UP AT END?\n",
    "\n",
    "# let's try some variables, as taken from an example here > https://github.com/galaxykate/tracery/issues/14\n",
    "\n",
    "rules = {\n",
    "    \"name\": [\"Cheri\",\"Fox\",\"Morgana\",\"Jedoo\",\"Brick\",\"Shadow\",\"Krox\",\"Urga\",\"Zelph\"],\n",
    "\"story\": [\"#name.capitalize# was a great #occupation#, and this song tells of #heroTheir# adventure. #name.capitalize# #didStuff#, then #heroThey# #didStuff#, then #heroThey# went home to read a book.\"] ,\n",
    "\"monster\": [\"dragon\",\"ogre\",\"witch\",\"wizard\",\"goblin\",\"golem\",\"giant\",\"sphinx\",\"warlord\"] , \n",
    "\"setPronouns\": [\"[heroThey:they][heroThem:them][heroTheir:their][heroTheirs:theirs]\",\"[heroThey:she][heroThem:her][heroTheir:her][heroTheirs:hers]\",\"[heroThey:he][heroThem:him][heroTheir:his][heroTheirs:his]\"] , \"setOccupation\": [\"[occupation:baker][didStuff:baked bread,decorated cupcakes,folded dough,made croissants,iced a cake]\",\"[occupation:warrior][didStuff:fought #monster.a#,saved a village from #monster.a#,battled #monster.a#,defeated #monster.a#]\"] ,\n",
    "\"origin\": [\"#[#setPronouns#][#setOccupation#][hero:#name#]story#\"]\n",
    "}\n",
    "grammar = tracery.Grammar(rules) # create a grammar object from the rules\n",
    "grammar.add_modifiers(base_english) # add pre-programmed modifiers\n",
    "\n",
    "for i in range(3):\n",
    "    print (grammar.flatten(\"#story#\")) # and flatten, starting with origin rule"
   ]
  },
  {
   "cell_type": "code",
   "execution_count": 80,
   "metadata": {},
   "outputs": [
    {
     "name": "stdout",
     "output_type": "stream",
     "text": [
      "poo\n"
     ]
    },
    {
     "ename": "TypeError",
     "evalue": "cannot create 'builtin_function_or_method' instances",
     "output_type": "error",
     "traceback": [
      "\u001b[0;31m---------------------------------------------------------------------------\u001b[0m",
      "\u001b[0;31mTypeError\u001b[0m                                 Traceback (most recent call last)",
      "\u001b[0;32m<ipython-input-80-e0a40183c8c6>\u001b[0m in \u001b[0;36m<module>\u001b[0;34m\u001b[0m\n\u001b[0;32m----> 1\u001b[0;31m \u001b[0;32mclass\u001b[0m \u001b[0mperson\u001b[0m\u001b[0;34m(\u001b[0m\u001b[0mid\u001b[0m\u001b[0;34m)\u001b[0m\u001b[0;34m:\u001b[0m\u001b[0;34m\u001b[0m\u001b[0;34m\u001b[0m\u001b[0m\n\u001b[0m\u001b[1;32m      2\u001b[0m     \u001b[0mid\u001b[0m \u001b[0;34m=\u001b[0m \u001b[0mid\u001b[0m\u001b[0;34m\u001b[0m\u001b[0;34m\u001b[0m\u001b[0m\n\u001b[1;32m      3\u001b[0m     \u001b[0mprint\u001b[0m\u001b[0;34m(\u001b[0m\u001b[0;34m\"poo\"\u001b[0m\u001b[0;34m)\u001b[0m\u001b[0;34m\u001b[0m\u001b[0;34m\u001b[0m\u001b[0m\n\u001b[1;32m      4\u001b[0m \u001b[0;34m\u001b[0m\u001b[0m\n\u001b[1;32m      5\u001b[0m symbols = {\n",
      "\u001b[0;31mTypeError\u001b[0m: cannot create 'builtin_function_or_method' instances"
     ]
    }
   ],
   "source": [
    "class person(id):\n",
    "    id = id\n",
    "    print(\"poo\")\n",
    "\n",
    "symbols = {\n",
    "    \"like\": [\"benches\", \"trees\", \"grass\"]\n",
    "}\n",
    "\n",
    "x = person(\"X\")\n",
    "\n",
    "print(x)\n",
    "\n",
    "grammar = tracery.Grammar(symbols) # create a grammar object from the rules\n",
    "grammar.add_modifiers(base_english) # add pre-programmed modifiers"
   ]
  },
  {
   "cell_type": "code",
   "execution_count": 97,
   "metadata": {},
   "outputs": [
    {
     "name": "stdout",
     "output_type": "stream",
     "text": [
      "canine\n",
      "Rex canine\n",
      "Fido canine\n"
     ]
    }
   ],
   "source": [
    "# basic classes\n",
    "\n",
    "class Dog:\n",
    "    kind = 'canine'\n",
    "    \n",
    "    def __init__(self, name):\n",
    "        self.name = name    \n",
    "\n",
    "print(Dog.kind) # any flipping dog\n",
    "\n",
    "r = Dog('Rex')\n",
    "print(r.name, r.kind)\n",
    "f = Dog('Fido')\n",
    "print(f.name, f.kind)"
   ]
  },
  {
   "cell_type": "code",
   "execution_count": 119,
   "metadata": {},
   "outputs": [
    {
     "name": "stdout",
     "output_type": "stream",
     "text": [
      "business\n",
      "business Butcher Kilochester\n"
     ]
    }
   ],
   "source": [
    "# so, let's try this with a town. A new grammar for each company!\n",
    "\n",
    "\n",
    "# YES THIS IS RESTATING LOADS OF STUFF I KNOW\n",
    "\n",
    "def loadData():\n",
    "    with open('corpora/townprefixes.txt','r') as f:\n",
    "        townprefixes = [line.strip() for line in f]\n",
    "    with open('corpora/townsuffixes.txt','r') as f:\n",
    "        townsuffixes = [line.strip() for line in f]\n",
    "    with open('corpora/monopolystreets.txt','r') as f:\n",
    "        street = [line.strip() for line in f]\n",
    "\n",
    "    # print(\"prefixes = \",townprefixes)\n",
    "    # print(\"suffixes =\",townsuffixes)\n",
    "\n",
    "rules = {\n",
    "    \"name\": [\"butcher\",\"baker\",\"candlestick maker\"],\n",
    "    \"address\": \"#number# #street.capitalize#, #town.capitalize#, #zipcode#\",\n",
    "    \"number\": [\"#d0#\",\"#d0##d#\",\"#d0##d##d#\",\"#d0##d##d#\",\"#d0##d##d#\",\"#d0##d##d#\",\"#d0##d##d##d#\",\"#d0##d##d##d#\",\"#d0##d##d##d#\",\"#d0##d##d##d#\",\"#d0##d##d##d#\",\"#d0##d##d##d#\",\"#d0##d##d##d#\",\"#d0##d##d##d#\",\"#d0##d##d##d#\"],\n",
    "    \"street\": street,\n",
    "    \"town\": \"#prefix.capitalize##suffix#\",\n",
    "    \"prefix\": townprefixes,\n",
    "    \"suffix\": townsuffixes,\n",
    "    \"zipcode\": \"#d##d##d##d##d#\",\n",
    "    \"d\":[\"0\",\"1\",\"2\",\"3\",\"4\",\"5\",\"6\",\"7\",\"8\",\"9\"],\n",
    "    \"d0\":[\"1\",\"2\",\"3\",\"4\",\"5\",\"6\",\"7\",\"8\",\"9\"]\n",
    "}\n",
    "\n",
    "loadData()\n",
    "grammar = tracery.Grammar(rules) # create a grammar object from the rules\n",
    "grammar.add_modifiers(base_english) # add pre-programmed modifiers\n",
    "\n",
    "class Business:\n",
    "    kind = 'business'\n",
    "    def __init__(self,name):\n",
    "        self.name = grammar.flatten(\"#name.capitalize#\")\n",
    "        self.town = grammar.flatten(\"#town#\")\n",
    "        \n",
    "        \n",
    "print(Business.kind)\n",
    "\n",
    "a = Business('Name')\n",
    "print (a.kind, a.name, a.town)"
   ]
  },
  {
   "cell_type": "code",
   "execution_count": 133,
   "metadata": {},
   "outputs": [
    {
     "name": "stdout",
     "output_type": "stream",
     "text": [
      "Hitmen\n"
     ]
    }
   ],
   "source": [
    "# ok, so that works...now let's define categories, and create a few new businesses per category\n",
    "\n",
    "\n",
    "rules = {\n",
    "    \"cat\": [\"butchers\",\"bakers\",\"accountants\",\"hitmen\"], #to expand later\n",
    "}\n",
    "\n",
    "grammar = tracery.Grammar(rules)\n",
    "grammar.add_modifiers(base_english)\n",
    "\n",
    "\n",
    "class Category:\n",
    "    kind = 'category'\n",
    "    def __init__(self,name):\n",
    "        self.name = grammar.flatten(\"#cat.capitalize#\")\n",
    "        \n",
    "a = Category('hm')\n",
    "print(a.name)"
   ]
  },
  {
   "cell_type": "markdown",
   "metadata": {},
   "source": [
    "# Mottoes\n",
    "\n",
    "Companies in the old Yellow Pages have great mottoes, e.g.\n",
    "\n",
    "    The {biggest/best/oldest/rarest/most sought-after} {business category/prices/selection} {in/near/{north/south/east/west/just outside} of} {town/county}{!/!!/!!!}\n",
    "\n",
    "or \n",
    "\n",
    "    We put the _x_ in _y_ (where _y_ is a word associated with the business type)\n",
    "\n",
    "or \n",
    "\n",
    "    Home of the {category} {doctor/specialists/repairers/practitioners}\n",
    "    \n",
    "or\n",
    "\n",
    "    You've seen the rest, now find the best!\n",
    "    \n",
    "or\n",
    "\n",
    "    Complete systems - one year warranty\n",
    "    \n",
    "or \n",
    "\n",
    "    {list of related services, with • separators}\n",
    "    \n",
    "or \n",
    "\n",
    "    From {one thing related to category} to {another thing related to category}\n",
    "    \n",
    "or \n",
    "\n",
    "    FREE ESTIMATES and NO PAYMENT UPFRONT\n",
    "    INTEREST-FREE CREDIT\n",
    "\n",
    "(perhaps a category of \"benefits\"?)"
   ]
  },
  {
   "cell_type": "code",
   "execution_count": 140,
   "metadata": {},
   "outputs": [
    {
     "name": "stdout",
     "output_type": "stream",
     "text": [
      "The biggest prices near Quebecton\n",
      "The nicest selection south of Foxtrotside\n",
      "The best prices north of Romeoster\n",
      "The rarest prices in Oscarview\n",
      "The best prices in Limafield\n",
      "The most sought-after collection in Limafield\n",
      "The biggest prices in Zuluburn\n",
      "The biggest selection near Deltabridge\n",
      "The nicest selection east of Tangoland\n",
      "The oldest selection in Limaton\n",
      "The biggest budget option just outside of Xrayston\n",
      "The most sought-after budget option near Limaport\n",
      "The best budget option near Deltaford\n",
      "The oldest selection in Deltadam\n",
      "The oldest range near Kiloview\n",
      "The biggest collection north of Whiskeyford\n",
      "The biggest range east of Zuluton\n",
      "The nicest budget option in Indiachester\n",
      "The prettiest selection just outside of Xrayland\n",
      "The prettiest range in Zuluville\n",
      "The best selection near Sierrason\n",
      "The oldest collection west of Deltaston\n",
      "The biggest collection south of Golfford\n",
      "The oldest selection just outside of Quebecstone\n",
      "The nicest prices near Limaster\n",
      "The oldest collection south of Kilobridge\n",
      "The most sought-after selection near Tangoport\n",
      "The biggest budget option in Novemberdam\n",
      "The rarest range just outside of Juliettson\n",
      "The biggest range west of Mikeville\n"
     ]
    }
   ],
   "source": [
    "# the biggest selection in warburton!\n",
    "\n",
    "loadData()\n",
    "rules = {\n",
    "    \"motto\": [\"The #superlative# #thing# #located# #town#\"],\n",
    "    \"superlative\": [\"biggest\",\"best\",\"oldest\",\"rarest\",\"most sought-after\",\"nicest\",\"prettiest\"],\n",
    "    \"thing\": [\"prices\",\"selection\",\"collection\",\"range\",\"budget option\"],\n",
    "    \"located\": [\"in\",\"near\",\"#dir# of\"],\n",
    "    \"dir\": [\"north\",\"south\",\"east\",\"west\",\"just outside\"],\n",
    "    \"town\": \"#prefix.capitalize##suffix#\",\n",
    "    \"prefix\": townprefixes,\n",
    "    \"suffix\": townsuffixes\n",
    "}\n",
    "\n",
    "grammar = tracery.Grammar(rules) # create a grammar object from the rules\n",
    "grammar.add_modifiers(base_english) # add pre-programmed modifiers\n",
    "\n",
    "for i in range(30):\n",
    "    print (grammar.flatten(\"#motto#\")) # and flatten, starting with origin rule"
   ]
  },
  {
   "cell_type": "code",
   "execution_count": 161,
   "metadata": {},
   "outputs": [
    {
     "name": "stdout",
     "output_type": "stream",
     "text": [
      "we put the latrine in hematozoon\n",
      "we put the uvver in wheyisness\n",
      "we put the bestrews in precited\n",
      "we put the turpeths in rentree\n",
      "we put the eben in meteorically\n",
      "we put the hairs in deliver\n",
      "we put the chalcanthite in deliriate\n",
      "we put the cryptographers in eodiscid\n",
      "we put the drogherman in withdraws\n",
      "we put the agonises in heartlands\n",
      "we put the miolithic in charadrii\n",
      "we put the anthogenous in disbelief\n",
      "we put the nonerosive in coiffed\n",
      "we put the kotows in ruttishly\n",
      "we put the explication in thymogenic\n",
      "we put the subforeman in merd\n",
      "we put the windages in armipotent\n",
      "we put the backbearing in discrownment\n",
      "we put the fablemaker in unhealably\n",
      "we put the overstalely in backvelder\n",
      "we put the pegboard in gogga\n",
      "we put the peaked in uncontinually\n",
      "we put the pantisocratical in untedded\n",
      "we put the meteoroid in alumines\n",
      "we put the defilements in ytterbia\n",
      "we put the skimmia in subterposition\n",
      "we put the lambly in atropine\n",
      "we put the stoot in hazanim\n",
      "we put the rouille in acetylide\n",
      "we put the fruitworm in noncasual\n"
     ]
    }
   ],
   "source": [
    "# we put the x in y\n",
    "\n",
    "with open('corpora/words_alpha.txt','r') as f:\n",
    "    words = [line.strip() for line in f]\n",
    "\n",
    "rules = {\n",
    "    \"category\":words\n",
    "}\n",
    "\n",
    "grammar = tracery.Grammar(rules) # create a grammar object from the rules\n",
    "grammar.add_modifiers(base_english) # add pre-programmed modifiers\n",
    "\n",
    "for i in range(30):\n",
    "    print (grammar.flatten(\"we put the #category# in #category#\")) # and flatten, starting with origin rule"
   ]
  },
  {
   "cell_type": "code",
   "execution_count": null,
   "metadata": {},
   "outputs": [],
   "source": []
  }
 ],
 "metadata": {
  "kernelspec": {
   "display_name": "Python 3",
   "language": "python",
   "name": "python3"
  },
  "language_info": {
   "codemirror_mode": {
    "name": "ipython",
    "version": 3
   },
   "file_extension": ".py",
   "mimetype": "text/x-python",
   "name": "python",
   "nbconvert_exporter": "python",
   "pygments_lexer": "ipython3",
   "version": "3.7.5"
  }
 },
 "nbformat": 4,
 "nbformat_minor": 2
}
